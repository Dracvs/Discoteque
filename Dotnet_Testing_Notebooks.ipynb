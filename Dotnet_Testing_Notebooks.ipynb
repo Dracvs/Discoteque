{
 "cells": [
  {
   "cell_type": "code",
   "execution_count": 22,
   "metadata": {
    "dotnet_interactive": {
     "language": "csharp"
    },
    "polyglot_notebook": {
     "kernelName": "csharp"
    }
   },
   "outputs": [
    {
     "name": "stdout",
     "output_type": "stream",
     "text": [
      "True\n"
     ]
    }
   ],
   "source": [
    "using System.Linq;\n",
    "using System.Text.RegularExpressions;\n",
    "// Console.WriteLine(new DateTime().AddMinutes(3).AddSeconds(26).ToString(\"ss\"));\n",
    "// Console.WriteLine(new DateTime().AddSeconds(164).ToString(\"mm:ss\"));\n",
    "string name = \"El son de revolución\";\n",
    "var prohibitedWords = new List<string>(){\"Revolución\", \"Poder\",\"Amor\",\"Guerra\"};\n",
    "var value = prohibitedWords.Any(keyword => Regex.IsMatch(name, Regex.Escape(keyword), RegexOptions.IgnoreCase));\n",
    "Console.WriteLine(value);"
   ]
  }
 ],
 "metadata": {
  "kernelspec": {
   "display_name": ".NET (C#)",
   "language": "C#",
   "name": ".net-csharp"
  },
  "language_info": {
   "name": "polyglot-notebook"
  },
  "polyglot_notebook": {
   "kernelInfo": {
    "defaultKernelName": "csharp",
    "items": [
     {
      "aliases": [],
      "languageName": "csharp",
      "name": "csharp"
     }
    ]
   }
  }
 },
 "nbformat": 4,
 "nbformat_minor": 2
}
