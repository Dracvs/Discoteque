{
 "cells": [
  {
   "cell_type": "code",
   "execution_count": 1,
   "metadata": {
    "dotnet_interactive": {
     "language": "csharp"
    },
    "polyglot_notebook": {
     "kernelName": "csharp"
    }
   },
   "outputs": [
    {
     "ename": "Error",
     "evalue": "(10,10): error CS1519: Invalid token '=' in class, record, struct, or interface member declaration\n(10,10): error CS1525: Invalid expression term '='\n(10,12): error CS1525: Invalid expression term '{'\n(10,12): error CS1002: ; expected\n(10,20): error CS1002: ; expected\n(10,20): error CS1513: } expected\n(10,35): error CS1002: ; expected\n(11,8): error CS1003: Syntax error, '(' expected\n(11,8): error CS1733: Expected expression\n(11,8): error CS1515: 'in' expected\n(11,8): error CS0230: Type and identifier are both required in a foreach statement\n(11,8): error CS1733: Expected expression\n(11,8): error CS1026: ) expected\n(11,8): error CS1733: Expected expression\n(11,8): error CS1002: ; expected",
     "output_type": "error",
     "traceback": [
      "(10,10): error CS1519: Invalid token '=' in class, record, struct, or interface member declaration\n",
      "(10,10): error CS1525: Invalid expression term '='\n",
      "(10,12): error CS1525: Invalid expression term '{'\n",
      "(10,12): error CS1002: ; expected\n",
      "(10,20): error CS1002: ; expected\n",
      "(10,20): error CS1513: } expected\n",
      "(10,35): error CS1002: ; expected\n",
      "(11,8): error CS1003: Syntax error, '(' expected\n",
      "(11,8): error CS1733: Expected expression\n",
      "(11,8): error CS1515: 'in' expected\n",
      "(11,8): error CS0230: Type and identifier are both required in a foreach statement\n",
      "(11,8): error CS1733: Expected expression\n",
      "(11,8): error CS1026: ) expected\n",
      "(11,8): error CS1733: Expected expression\n",
      "(11,8): error CS1002: ; expected"
     ]
    }
   ],
   "source": [
    "using System.Linq;\n",
    "using System.Text.RegularExpressions;\n",
    "// Console.WriteLine(new DateTime().AddMinutes(3).AddSeconds(26).ToString(\"ss\"));\n",
    "// Console.WriteLine(new DateTime().AddSeconds(164).ToString(\"mm:ss\"));\n",
    "// string name = \"El son de revolución\";\n",
    "// var prohibitedWords = new List<string>(){\"Revolución\", \"Poder\",\"Amor\",\"Guerra\"};\n",
    "// var value = prohibitedWords.Any(keyword => Regex.IsMatch(name, Regex.Escape(keyword), RegexOptions.IgnoreCase));\n",
    "// Console.WriteLine(value);\n",
    "\n",
    "int edad = 30;\n",
    "int matusalen = 100000;\n",
    "\n"
   ]
  },
  {
   "cell_type": "code",
   "execution_count": null,
   "metadata": {
    "dotnet_interactive": {
     "language": "csharp"
    },
    "polyglot_notebook": {
     "kernelName": "csharp"
    }
   },
   "outputs": [],
   "source": []
  }
 ],
 "metadata": {
  "kernelspec": {
   "display_name": ".NET (C#)",
   "language": "C#",
   "name": ".net-csharp"
  },
  "language_info": {
   "name": "polyglot-notebook"
  },
  "polyglot_notebook": {
   "kernelInfo": {
    "defaultKernelName": "csharp",
    "items": [
     {
      "aliases": [],
      "languageName": "csharp",
      "name": "csharp"
     }
    ]
   }
  }
 },
 "nbformat": 4,
 "nbformat_minor": 2
}
